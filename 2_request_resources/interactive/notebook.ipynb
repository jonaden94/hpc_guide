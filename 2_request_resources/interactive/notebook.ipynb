{
 "cells": [
  {
   "cell_type": "code",
   "execution_count": null,
   "metadata": {},
   "outputs": [],
   "source": [
    "# if you are on a GPU node, you can test if the GPU is available by running this cell\n",
    "import torch\n",
    "tensor = torch.randn(100, 3).cuda()\n",
    "print(f'GPU tensor: {tensor.device}')"
   ]
  },
  {
   "cell_type": "code",
   "execution_count": null,
   "metadata": {},
   "outputs": [],
   "source": [
    "# test that you have multiple CPU cores available as specified in the job script (there might be a bug that more CPU cores are available than requested)\n",
    "import os\n",
    "n_cores = len(os.sched_getaffinity(0))\n",
    "print(f'Number of CPU cores available: {n_cores}')  # should be 4 if you requested 4 cores but might be more due to bug in interactive usage"
   ]
  }
 ],
 "metadata": {
  "kernelspec": {
   "display_name": "torch_env",
   "language": "python",
   "name": "python3"
  },
  "language_info": {
   "name": "python",
   "version": "3.10.16"
  }
 },
 "nbformat": 4,
 "nbformat_minor": 2
}
