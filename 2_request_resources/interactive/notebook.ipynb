{
 "cells": [
  {
   "cell_type": "code",
   "execution_count": null,
   "metadata": {},
   "outputs": [],
   "source": [
    "import os\n",
    "from sklearn.datasets import make_classification\n",
    "from sklearn.ensemble import RandomForestClassifier\n",
    "import torch"
   ]
  },
  {
   "cell_type": "code",
   "execution_count": null,
   "metadata": {},
   "outputs": [],
   "source": [
    "# if you are on a GPU node, you can test if the GPU is available by running this cell\n",
    "tensor = torch.randn(100, 3).cuda()\n",
    "print(f'GPU tensor: {tensor.device}')"
   ]
  },
  {
   "cell_type": "code",
   "execution_count": null,
   "metadata": {},
   "outputs": [],
   "source": [
    "# test that you have multiple CPU cores available as specified in the job script (there might be a bug that more CPU cores are available than requested)\n",
    "n_cores = len(os.sched_getaffinity(0))\n",
    "print(f'Number of CPU cores available: {n_cores}')  # should be 4 if you requested 4 cores but might be more due to bug in interactive usage\n",
    "\n",
    "# fit random forest to dummy data using all available CPU cores (you will see that training is much slower when using only one core, try it out!)\n",
    "X, y = make_classification(n_samples=200000, n_features=20, random_state=42)\n",
    "clf = RandomForestClassifier(max_depth=64, n_jobs=n_cores, random_state=42)\n",
    "clf.fit(X, y)"
   ]
  }
 ],
 "metadata": {
  "kernelspec": {
   "display_name": "torch_env",
   "language": "python",
   "name": "python3"
  },
  "language_info": {
   "codemirror_mode": {
    "name": "ipython",
    "version": 3
   },
   "file_extension": ".py",
   "mimetype": "text/x-python",
   "name": "python",
   "nbconvert_exporter": "python",
   "pygments_lexer": "ipython3",
   "version": "3.10.18"
  }
 },
 "nbformat": 4,
 "nbformat_minor": 2
}
